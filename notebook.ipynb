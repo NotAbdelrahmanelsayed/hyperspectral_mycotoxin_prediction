{
 "cells": [
  {
   "cell_type": "code",
   "execution_count": 1,
   "metadata": {},
   "outputs": [],
   "source": [
    "import pandas as pd\n",
    "import matplotlib.pyplot as plt\n",
    "import seaborn as sns"
   ]
  },
  {
   "cell_type": "markdown",
   "metadata": {},
   "source": [
    "Read the data"
   ]
  },
  {
   "cell_type": "code",
   "execution_count": 2,
   "metadata": {},
   "outputs": [],
   "source": [
    "df = pd.read_csv(\"TASK-ML-INTERN.csv\")"
   ]
  },
  {
   "cell_type": "markdown",
   "metadata": {},
   "source": [
    "# 1. EDA"
   ]
  },
  {
   "cell_type": "code",
   "execution_count": 3,
   "metadata": {},
   "outputs": [
    {
     "data": {
      "text/html": [
       "<div>\n",
       "<style scoped>\n",
       "    .dataframe tbody tr th:only-of-type {\n",
       "        vertical-align: middle;\n",
       "    }\n",
       "\n",
       "    .dataframe tbody tr th {\n",
       "        vertical-align: top;\n",
       "    }\n",
       "\n",
       "    .dataframe thead th {\n",
       "        text-align: right;\n",
       "    }\n",
       "</style>\n",
       "<table border=\"1\" class=\"dataframe\">\n",
       "  <thead>\n",
       "    <tr style=\"text-align: right;\">\n",
       "      <th></th>\n",
       "      <th>hsi_id</th>\n",
       "      <th>0</th>\n",
       "      <th>1</th>\n",
       "      <th>2</th>\n",
       "      <th>3</th>\n",
       "      <th>4</th>\n",
       "      <th>5</th>\n",
       "      <th>6</th>\n",
       "      <th>7</th>\n",
       "      <th>8</th>\n",
       "      <th>...</th>\n",
       "      <th>439</th>\n",
       "      <th>440</th>\n",
       "      <th>441</th>\n",
       "      <th>442</th>\n",
       "      <th>443</th>\n",
       "      <th>444</th>\n",
       "      <th>445</th>\n",
       "      <th>446</th>\n",
       "      <th>447</th>\n",
       "      <th>vomitoxin_ppb</th>\n",
       "    </tr>\n",
       "  </thead>\n",
       "  <tbody>\n",
       "    <tr>\n",
       "      <th>0</th>\n",
       "      <td>imagoai_corn_0</td>\n",
       "      <td>0.416181</td>\n",
       "      <td>0.396844</td>\n",
       "      <td>0.408985</td>\n",
       "      <td>0.372865</td>\n",
       "      <td>0.385293</td>\n",
       "      <td>0.365390</td>\n",
       "      <td>0.355226</td>\n",
       "      <td>0.343350</td>\n",
       "      <td>0.344837</td>\n",
       "      <td>...</td>\n",
       "      <td>0.710280</td>\n",
       "      <td>0.717482</td>\n",
       "      <td>0.715078</td>\n",
       "      <td>0.705379</td>\n",
       "      <td>0.696691</td>\n",
       "      <td>0.692793</td>\n",
       "      <td>0.711369</td>\n",
       "      <td>0.697679</td>\n",
       "      <td>0.704520</td>\n",
       "      <td>1100.0</td>\n",
       "    </tr>\n",
       "    <tr>\n",
       "      <th>1</th>\n",
       "      <td>imagoai_corn_1</td>\n",
       "      <td>0.415797</td>\n",
       "      <td>0.402956</td>\n",
       "      <td>0.402564</td>\n",
       "      <td>0.396014</td>\n",
       "      <td>0.397192</td>\n",
       "      <td>0.389634</td>\n",
       "      <td>0.375671</td>\n",
       "      <td>0.363689</td>\n",
       "      <td>0.373883</td>\n",
       "      <td>...</td>\n",
       "      <td>0.684011</td>\n",
       "      <td>0.697271</td>\n",
       "      <td>0.701995</td>\n",
       "      <td>0.696077</td>\n",
       "      <td>0.701012</td>\n",
       "      <td>0.677418</td>\n",
       "      <td>0.696921</td>\n",
       "      <td>0.696544</td>\n",
       "      <td>0.689054</td>\n",
       "      <td>1000.0</td>\n",
       "    </tr>\n",
       "  </tbody>\n",
       "</table>\n",
       "<p>2 rows × 450 columns</p>\n",
       "</div>"
      ],
      "text/plain": [
       "           hsi_id         0         1         2         3         4         5  \\\n",
       "0  imagoai_corn_0  0.416181  0.396844  0.408985  0.372865  0.385293  0.365390   \n",
       "1  imagoai_corn_1  0.415797  0.402956  0.402564  0.396014  0.397192  0.389634   \n",
       "\n",
       "          6         7         8  ...       439       440       441       442  \\\n",
       "0  0.355226  0.343350  0.344837  ...  0.710280  0.717482  0.715078  0.705379   \n",
       "1  0.375671  0.363689  0.373883  ...  0.684011  0.697271  0.701995  0.696077   \n",
       "\n",
       "        443       444       445       446       447  vomitoxin_ppb  \n",
       "0  0.696691  0.692793  0.711369  0.697679  0.704520         1100.0  \n",
       "1  0.701012  0.677418  0.696921  0.696544  0.689054         1000.0  \n",
       "\n",
       "[2 rows x 450 columns]"
      ]
     },
     "execution_count": 3,
     "metadata": {},
     "output_type": "execute_result"
    }
   ],
   "source": [
    "df.head(2)"
   ]
  },
  {
   "cell_type": "code",
   "execution_count": 4,
   "metadata": {},
   "outputs": [
    {
     "data": {
      "text/plain": [
       "Index(['hsi_id', '0', '1', '2', '3', '4', '5', '6', '7', '8',\n",
       "       ...\n",
       "       '439', '440', '441', '442', '443', '444', '445', '446', '447',\n",
       "       'vomitoxin_ppb'],\n",
       "      dtype='object', length=450)"
      ]
     },
     "execution_count": 4,
     "metadata": {},
     "output_type": "execute_result"
    }
   ],
   "source": [
    "df.columns"
   ]
  },
  {
   "cell_type": "code",
   "execution_count": 5,
   "metadata": {},
   "outputs": [
    {
     "name": "stdout",
     "output_type": "stream",
     "text": [
      "data shape is: (500, 450)\n"
     ]
    }
   ],
   "source": [
    "print(\"data shape is:\", df.shape)"
   ]
  },
  {
   "cell_type": "code",
   "execution_count": 6,
   "metadata": {},
   "outputs": [
    {
     "name": "stdout",
     "output_type": "stream",
     "text": [
      "Number of nulls in the data:  0\n"
     ]
    }
   ],
   "source": [
    "# Check missing values\n",
    "print(\"Number of nulls in the data: \",df.isnull().sum().sum())"
   ]
  },
  {
   "cell_type": "code",
   "execution_count": 7,
   "metadata": {},
   "outputs": [
    {
     "data": {
      "text/plain": [
       "Index(['hsi_id', '0', '1', '2', '3', '4', '5', '6', '7', '8',\n",
       "       ...\n",
       "       '439', '440', '441', '442', '443', '444', '445', '446', '447',\n",
       "       'vomitoxin_ppb'],\n",
       "      dtype='object', length=450)"
      ]
     },
     "execution_count": 7,
     "metadata": {},
     "output_type": "execute_result"
    }
   ],
   "source": [
    "df.columns"
   ]
  },
  {
   "cell_type": "markdown",
   "metadata": {},
   "source": [
    "correlation matrix between spectral features and vomitoxin levels"
   ]
  },
  {
   "cell_type": "code",
   "execution_count": 8,
   "metadata": {},
   "outputs": [
    {
     "data": {
      "image/png": "[encoded data removed]",
      "text/plain": [
       "<Figure size 800x1000 with 2 Axes>"
      ]
     },
     "metadata": {},
     "output_type": "display_data"
    }
   ],
   "source": [
    "corr = df.iloc[:, 1:].corr()\n",
    "top_features = corr[['vomitoxin_ppb']].abs().sort_values(by='vomitoxin_ppb', ascending=False)[1:21]\n",
    "\n",
    "plt.figure(figsize=(8, 10))\n",
    "sns.heatmap(top_features, cmap=\"coolwarm\", annot=True, linewidths=.9)\n",
    "\n",
    "plt.title(\"Top 20 Correlations Between Spectral Features and Vomitoxin Levels\")\n",
    "plt.xticks(rotation=45)\n",
    "plt.yticks(rotation=0)\n",
    "plt.show()"
   ]
  },
  {
   "cell_type": "code",
   "execution_count": 9,
   "metadata": {},
   "outputs": [
    {
     "name": "stdout",
     "output_type": "stream",
     "text": [
      "Statistics for spectral data: \n"
     ]
    },
    {
     "data": {
      "text/html": [
       "<div>\n",
       "<style scoped>\n",
       "    .dataframe tbody tr th:only-of-type {\n",
       "        vertical-align: middle;\n",
       "    }\n",
       "\n",
       "    .dataframe tbody tr th {\n",
       "        vertical-align: top;\n",
       "    }\n",
       "\n",
       "    .dataframe thead th {\n",
       "        text-align: right;\n",
       "    }\n",
       "</style>\n",
       "<table border=\"1\" class=\"dataframe\">\n",
       "  <thead>\n",
       "    <tr style=\"text-align: right;\">\n",
       "      <th></th>\n",
       "      <th>0</th>\n",
       "      <th>1</th>\n",
       "      <th>2</th>\n",
       "      <th>3</th>\n",
       "      <th>4</th>\n",
       "      <th>5</th>\n",
       "      <th>6</th>\n",
       "      <th>7</th>\n",
       "      <th>8</th>\n",
       "      <th>9</th>\n",
       "      <th>...</th>\n",
       "      <th>439</th>\n",
       "      <th>440</th>\n",
       "      <th>441</th>\n",
       "      <th>442</th>\n",
       "      <th>443</th>\n",
       "      <th>444</th>\n",
       "      <th>445</th>\n",
       "      <th>446</th>\n",
       "      <th>447</th>\n",
       "      <th>vomitoxin_ppb</th>\n",
       "    </tr>\n",
       "  </thead>\n",
       "  <tbody>\n",
       "    <tr>\n",
       "      <th>count</th>\n",
       "      <td>500.000000</td>\n",
       "      <td>500.000000</td>\n",
       "      <td>500.000000</td>\n",
       "      <td>500.000000</td>\n",
       "      <td>500.000000</td>\n",
       "      <td>500.000000</td>\n",
       "      <td>500.000000</td>\n",
       "      <td>500.000000</td>\n",
       "      <td>500.000000</td>\n",
       "      <td>500.000000</td>\n",
       "      <td>...</td>\n",
       "      <td>500.000000</td>\n",
       "      <td>500.000000</td>\n",
       "      <td>500.000000</td>\n",
       "      <td>500.000000</td>\n",
       "      <td>500.000000</td>\n",
       "      <td>500.000000</td>\n",
       "      <td>500.000000</td>\n",
       "      <td>500.000000</td>\n",
       "      <td>500.000000</td>\n",
       "      <td>500.000000</td>\n",
       "    </tr>\n",
       "    <tr>\n",
       "      <th>mean</th>\n",
       "      <td>0.443118</td>\n",
       "      <td>0.440761</td>\n",
       "      <td>0.433814</td>\n",
       "      <td>0.426122</td>\n",
       "      <td>0.418990</td>\n",
       "      <td>0.412432</td>\n",
       "      <td>0.405868</td>\n",
       "      <td>0.399815</td>\n",
       "      <td>0.394038</td>\n",
       "      <td>0.389664</td>\n",
       "      <td>...</td>\n",
       "      <td>0.741255</td>\n",
       "      <td>0.740818</td>\n",
       "      <td>0.740459</td>\n",
       "      <td>0.739758</td>\n",
       "      <td>0.739850</td>\n",
       "      <td>0.738738</td>\n",
       "      <td>0.738298</td>\n",
       "      <td>0.737599</td>\n",
       "      <td>0.738099</td>\n",
       "      <td>3410.006000</td>\n",
       "    </tr>\n",
       "    <tr>\n",
       "      <th>std</th>\n",
       "      <td>0.044719</td>\n",
       "      <td>0.045520</td>\n",
       "      <td>0.045764</td>\n",
       "      <td>0.046070</td>\n",
       "      <td>0.045405</td>\n",
       "      <td>0.044727</td>\n",
       "      <td>0.044528</td>\n",
       "      <td>0.043773</td>\n",
       "      <td>0.043659</td>\n",
       "      <td>0.043442</td>\n",
       "      <td>...</td>\n",
       "      <td>0.053479</td>\n",
       "      <td>0.053695</td>\n",
       "      <td>0.053812</td>\n",
       "      <td>0.053666</td>\n",
       "      <td>0.053487</td>\n",
       "      <td>0.053601</td>\n",
       "      <td>0.054014</td>\n",
       "      <td>0.054136</td>\n",
       "      <td>0.054297</td>\n",
       "      <td>13095.803483</td>\n",
       "    </tr>\n",
       "    <tr>\n",
       "      <th>min</th>\n",
       "      <td>0.311182</td>\n",
       "      <td>0.295321</td>\n",
       "      <td>0.284064</td>\n",
       "      <td>0.282054</td>\n",
       "      <td>0.296702</td>\n",
       "      <td>0.286860</td>\n",
       "      <td>0.262876</td>\n",
       "      <td>0.278523</td>\n",
       "      <td>0.255529</td>\n",
       "      <td>0.261459</td>\n",
       "      <td>...</td>\n",
       "      <td>0.562662</td>\n",
       "      <td>0.585011</td>\n",
       "      <td>0.558412</td>\n",
       "      <td>0.571735</td>\n",
       "      <td>0.575259</td>\n",
       "      <td>0.571767</td>\n",
       "      <td>0.577803</td>\n",
       "      <td>0.576985</td>\n",
       "      <td>0.562302</td>\n",
       "      <td>0.000000</td>\n",
       "    </tr>\n",
       "    <tr>\n",
       "      <th>25%</th>\n",
       "      <td>0.410456</td>\n",
       "      <td>0.404310</td>\n",
       "      <td>0.397038</td>\n",
       "      <td>0.389029</td>\n",
       "      <td>0.382102</td>\n",
       "      <td>0.377157</td>\n",
       "      <td>0.369620</td>\n",
       "      <td>0.364823</td>\n",
       "      <td>0.360634</td>\n",
       "      <td>0.355246</td>\n",
       "      <td>...</td>\n",
       "      <td>0.702105</td>\n",
       "      <td>0.703701</td>\n",
       "      <td>0.702988</td>\n",
       "      <td>0.700889</td>\n",
       "      <td>0.701690</td>\n",
       "      <td>0.700638</td>\n",
       "      <td>0.698655</td>\n",
       "      <td>0.698107</td>\n",
       "      <td>0.699673</td>\n",
       "      <td>137.500000</td>\n",
       "    </tr>\n",
       "    <tr>\n",
       "      <th>50%</th>\n",
       "      <td>0.449105</td>\n",
       "      <td>0.442651</td>\n",
       "      <td>0.434215</td>\n",
       "      <td>0.425074</td>\n",
       "      <td>0.417075</td>\n",
       "      <td>0.411872</td>\n",
       "      <td>0.405443</td>\n",
       "      <td>0.397917</td>\n",
       "      <td>0.393803</td>\n",
       "      <td>0.387211</td>\n",
       "      <td>...</td>\n",
       "      <td>0.743857</td>\n",
       "      <td>0.745922</td>\n",
       "      <td>0.745062</td>\n",
       "      <td>0.743991</td>\n",
       "      <td>0.744004</td>\n",
       "      <td>0.743965</td>\n",
       "      <td>0.743301</td>\n",
       "      <td>0.745216</td>\n",
       "      <td>0.745733</td>\n",
       "      <td>500.000000</td>\n",
       "    </tr>\n",
       "    <tr>\n",
       "      <th>75%</th>\n",
       "      <td>0.480245</td>\n",
       "      <td>0.478822</td>\n",
       "      <td>0.473158</td>\n",
       "      <td>0.464947</td>\n",
       "      <td>0.459232</td>\n",
       "      <td>0.452198</td>\n",
       "      <td>0.444384</td>\n",
       "      <td>0.438728</td>\n",
       "      <td>0.431165</td>\n",
       "      <td>0.427039</td>\n",
       "      <td>...</td>\n",
       "      <td>0.777884</td>\n",
       "      <td>0.776210</td>\n",
       "      <td>0.777069</td>\n",
       "      <td>0.774759</td>\n",
       "      <td>0.775698</td>\n",
       "      <td>0.775686</td>\n",
       "      <td>0.775621</td>\n",
       "      <td>0.774635</td>\n",
       "      <td>0.774310</td>\n",
       "      <td>1700.000000</td>\n",
       "    </tr>\n",
       "    <tr>\n",
       "      <th>max</th>\n",
       "      <td>0.556287</td>\n",
       "      <td>0.530168</td>\n",
       "      <td>0.528774</td>\n",
       "      <td>0.533202</td>\n",
       "      <td>0.511909</td>\n",
       "      <td>0.501786</td>\n",
       "      <td>0.504054</td>\n",
       "      <td>0.490692</td>\n",
       "      <td>0.489272</td>\n",
       "      <td>0.472080</td>\n",
       "      <td>...</td>\n",
       "      <td>0.940642</td>\n",
       "      <td>0.940361</td>\n",
       "      <td>0.939153</td>\n",
       "      <td>0.930366</td>\n",
       "      <td>0.942615</td>\n",
       "      <td>0.945225</td>\n",
       "      <td>0.932812</td>\n",
       "      <td>0.931381</td>\n",
       "      <td>0.957860</td>\n",
       "      <td>131000.000000</td>\n",
       "    </tr>\n",
       "  </tbody>\n",
       "</table>\n",
       "<p>8 rows × 449 columns</p>\n",
       "</div>"
      ],
      "text/plain": [
       "                0           1           2           3           4           5  \\\n",
       "count  500.000000  500.000000  500.000000  500.000000  500.000000  500.000000   \n",
       "mean     0.443118    0.440761    0.433814    0.426122    0.418990    0.412432   \n",
       "std      0.044719    0.045520    0.045764    0.046070    0.045405    0.044727   \n",
       "min      0.311182    0.295321    0.284064    0.282054    0.296702    0.286860   \n",
       "25%      0.410456    0.404310    0.397038    0.389029    0.382102    0.377157   \n",
       "50%      0.449105    0.442651    0.434215    0.425074    0.417075    0.411872   \n",
       "75%      0.480245    0.478822    0.473158    0.464947    0.459232    0.452198   \n",
       "max      0.556287    0.530168    0.528774    0.533202    0.511909    0.501786   \n",
       "\n",
       "                6           7           8           9  ...         439  \\\n",
       "count  500.000000  500.000000  500.000000  500.000000  ...  500.000000   \n",
       "mean     0.405868    0.399815    0.394038    0.389664  ...    0.741255   \n",
       "std      0.044528    0.043773    0.043659    0.043442  ...    0.053479   \n",
       "min      0.262876    0.278523    0.255529    0.261459  ...    0.562662   \n",
       "25%      0.369620    0.364823    0.360634    0.355246  ...    0.702105   \n",
       "50%      0.405443    0.397917    0.393803    0.387211  ...    0.743857   \n",
       "75%      0.444384    0.438728    0.431165    0.427039  ...    0.777884   \n",
       "max      0.504054    0.490692    0.489272    0.472080  ...    0.940642   \n",
       "\n",
       "              440         441         442         443         444         445  \\\n",
       "count  500.000000  500.000000  500.000000  500.000000  500.000000  500.000000   \n",
       "mean     0.740818    0.740459    0.739758    0.739850    0.738738    0.738298   \n",
       "std      0.053695    0.053812    0.053666    0.053487    0.053601    0.054014   \n",
       "min      0.585011    0.558412    0.571735    0.575259    0.571767    0.577803   \n",
       "25%      0.703701    0.702988    0.700889    0.701690    0.700638    0.698655   \n",
       "50%      0.745922    0.745062    0.743991    0.744004    0.743965    0.743301   \n",
       "75%      0.776210    0.777069    0.774759    0.775698    0.775686    0.775621   \n",
       "max      0.940361    0.939153    0.930366    0.942615    0.945225    0.932812   \n",
       "\n",
       "              446         447  vomitoxin_ppb  \n",
       "count  500.000000  500.000000     500.000000  \n",
       "mean     0.737599    0.738099    3410.006000  \n",
       "std      0.054136    0.054297   13095.803483  \n",
       "min      0.576985    0.562302       0.000000  \n",
       "25%      0.698107    0.699673     137.500000  \n",
       "50%      0.745216    0.745733     500.000000  \n",
       "75%      0.774635    0.774310    1700.000000  \n",
       "max      0.931381    0.957860  131000.000000  \n",
       "\n",
       "[8 rows x 449 columns]"
      ]
     },
     "execution_count": 9,
     "metadata": {},
     "output_type": "execute_result"
    }
   ],
   "source": [
    "print(\"Statistics for spectral data: \")\n",
    "df_numeric = df.iloc[:, 1:]\n",
    "df_numeric.describe()"
   ]
  },
  {
   "cell_type": "markdown",
   "metadata": {},
   "source": [
    "Let's check take a closer look at distribution of vomitoxin"
   ]
  },
  {
   "cell_type": "code",
   "execution_count": 18,
   "metadata": {},
   "outputs": [
    {
     "data": {
      "image/png": "[encoded data removed]",
      "text/plain": [
       "<Figure size 800x600 with 1 Axes>"
      ]
     },
     "metadata": {},
     "output_type": "display_data"
    }
   ],
   "source": [
    "plt.figure(figsize=(8,6))\n",
    "sns.histplot(df['vomitoxin_ppb'], bins=50)\n",
    "plt.title(\"Distribution of Vomitoxin_ppb\")\n",
    "plt.xlabel(\"vomitoxin_ppb\")\n",
    "plt.ylabel(\"Frequency\")\n",
    "plt.show()"
   ]
  },
  {
   "cell_type": "markdown",
   "metadata": {},
   "source": [
    "## Summary of EDA\n",
    "**Feature Range:**\n",
    "* Most spectral features (0-447) have values between ~0.25 and 0.95\n",
    "* The target value has a very large range: 0 to 131,000.\n",
    "\n",
    "**STD**\n",
    "* Most spectral features have a small standard deviation (~0.04 to 0.05).\n",
    "* The target has an extremely high standard deviation (13,095.8), indicating extreme outliers."
   ]
  },
  {
   "cell_type": "markdown",
   "metadata": {},
   "source": [
    "I will standardize the data using Robust Scaling as it is best for skewed data and handling outliers"
   ]
  },
  {
   "cell_type": "markdown",
   "metadata": {},
   "source": [
    "# 2. Data Preprocessing"
   ]
  },
  {
   "cell_type": "code",
   "execution_count": 22,
   "metadata": {},
   "outputs": [
    {
     "ename": "ModuleNotFoundError",
     "evalue": "No module named 'sklearn'",
     "output_type": "error",
     "traceback": [
      "\u001b[31m---------------------------------------------------------------------------\u001b[39m",
      "\u001b[31mModuleNotFoundError\u001b[39m                       Traceback (most recent call last)",
      "\u001b[36mCell\u001b[39m\u001b[36m \u001b[39m\u001b[32mIn[22]\u001b[39m\u001b[32m, line 1\u001b[39m\n\u001b[32m----> \u001b[39m\u001b[32m1\u001b[39m \u001b[38;5;28;01mfrom\u001b[39;00m\u001b[38;5;250m \u001b[39m\u001b[34;01msklearn\u001b[39;00m\u001b[34;01m.\u001b[39;00m\u001b[34;01mpreprocessing\u001b[39;00m\u001b[38;5;250m \u001b[39m\u001b[38;5;28;01mimport\u001b[39;00m RobustScaler\n\u001b[32m      3\u001b[39m df_numeric = df.iloc[:, \u001b[32m1\u001b[39m:]\n\u001b[32m      6\u001b[39m \u001b[38;5;66;03m# Apply robust scaling\u001b[39;00m\n",
      "\u001b[31mModuleNotFoundError\u001b[39m: No module named 'sklearn'"
     ]
    }
   ],
   "source": [
    "from sklearn.preprocessing import RobustScaler\n",
    "\n",
    "df_numeric = df.iloc[:, 1:]\n",
    "\n",
    "\n",
    "# Apply robust scaling\n",
    "scaler = RobustScaler()\n",
    "df_scaled = scaler.fit_transform(df_numeric)\n",
    "df_scaled"
   ]
  }
 ],
 "metadata": {
  "kernelspec": {
   "display_name": "venv",
   "language": "python",
   "name": "python3"
  },
  "language_info": {
   "codemirror_mode": {
    "name": "ipython",
    "version": 3
   },
   "file_extension": ".py",
   "mimetype": "text/x-python",
   "name": "python",
   "nbconvert_exporter": "python",
   "pygments_lexer": "ipython3",
   "version": "3.12.8"
  }
 },
 "nbformat": 4,
 "nbformat_minor": 2
}
